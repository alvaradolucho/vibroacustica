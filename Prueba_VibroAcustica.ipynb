{
 "cells": [
  {
   "cell_type": "markdown",
   "metadata": {},
   "source": [
    "# Área de Influencia"
   ]
  },
  {
   "cell_type": "code",
   "execution_count": 1,
   "metadata": {},
   "outputs": [
    {
     "name": "stdout",
     "output_type": "stream",
     "text": [
      "El radio de influencia es de 676.1 metros.\n"
     ]
    }
   ],
   "source": [
    "def area_influencia(lw, lp):\n",
    "    dc = 3\n",
    "    r = 10 ** ((lw + dc - lp - 11) / 20)\n",
    "    return r\n",
    "\n",
    "lw = 115.5  # Nivel de potencia máximo en dBA\n",
    "lp = 50.9  # Nivel de presión sonora en dBA\n",
    "radio = area_influencia(lw, lp)\n",
    "print(\"El radio de influencia es de \" + str(round(radio, 1)) + \" metros.\")"
   ]
  },
  {
   "cell_type": "code",
   "execution_count": 22,
   "metadata": {},
   "outputs": [
    {
     "name": "stdout",
     "output_type": "stream",
     "text": [
      "115.5\n"
     ]
    }
   ],
   "source": [
    "print(lw)"
   ]
  },
  {
   "cell_type": "code",
   "execution_count": 9,
   "metadata": {},
   "outputs": [
    {
     "data": {
      "image/png": "[encoded data removed]",
      "text/plain": [
       "<matplotlib.figure.Figure at 0xa545ed0>"
      ]
     },
     "metadata": {
      "needs_background": "light"
     },
     "output_type": "display_data"
    }
   ],
   "source": [
    "import matplotlib.pyplot as plt\n",
    "import numpy as np\n",
    "a = np.arange(6)\n",
    "plt.plot(a)\n",
    "plt.xlabel(\"Eje x\")\n",
    "plt.ylabel(\"Eje y\")\n",
    "plt.show()"
   ]
  },
  {
   "cell_type": "code",
   "execution_count": 10,
   "metadata": {},
   "outputs": [
    {
     "data": {
      "text/html": [
       "Hola cabros del llutub"
      ],
      "text/plain": [
       "<IPython.core.display.HTML object>"
      ]
     },
     "metadata": {},
     "output_type": "display_data"
    }
   ],
   "source": [
    "%%HTML\n",
    "Hola cabros del llutub"
   ]
  },
  {
   "cell_type": "code",
   "execution_count": 16,
   "metadata": {},
   "outputs": [
    {
     "data": {
      "text/html": [
       "<div>\n",
       "<style scoped>\n",
       "    .dataframe tbody tr th:only-of-type {\n",
       "        vertical-align: middle;\n",
       "    }\n",
       "\n",
       "    .dataframe tbody tr th {\n",
       "        vertical-align: top;\n",
       "    }\n",
       "\n",
       "    .dataframe thead th {\n",
       "        text-align: right;\n",
       "    }\n",
       "</style>\n",
       "<table border=\"1\" class=\"dataframe\">\n",
       "  <thead>\n",
       "    <tr style=\"text-align: right;\">\n",
       "      <th></th>\n",
       "      <th>0</th>\n",
       "      <th>1</th>\n",
       "      <th>2</th>\n",
       "      <th>3</th>\n",
       "      <th>4</th>\n",
       "    </tr>\n",
       "  </thead>\n",
       "  <tbody>\n",
       "    <tr>\n",
       "      <th>0</th>\n",
       "      <td>-0.224937</td>\n",
       "      <td>-0.762297</td>\n",
       "      <td>-0.140714</td>\n",
       "      <td>-0.370668</td>\n",
       "      <td>0.888951</td>\n",
       "    </tr>\n",
       "    <tr>\n",
       "      <th>1</th>\n",
       "      <td>2.661268</td>\n",
       "      <td>1.949505</td>\n",
       "      <td>0.937711</td>\n",
       "      <td>2.423897</td>\n",
       "      <td>0.674366</td>\n",
       "    </tr>\n",
       "    <tr>\n",
       "      <th>2</th>\n",
       "      <td>1.860291</td>\n",
       "      <td>2.001318</td>\n",
       "      <td>-0.789485</td>\n",
       "      <td>-0.961487</td>\n",
       "      <td>0.959714</td>\n",
       "    </tr>\n",
       "    <tr>\n",
       "      <th>3</th>\n",
       "      <td>0.052483</td>\n",
       "      <td>1.991335</td>\n",
       "      <td>-0.561889</td>\n",
       "      <td>-0.897208</td>\n",
       "      <td>-0.579662</td>\n",
       "    </tr>\n",
       "    <tr>\n",
       "      <th>4</th>\n",
       "      <td>0.228542</td>\n",
       "      <td>-1.239256</td>\n",
       "      <td>-0.580582</td>\n",
       "      <td>1.660181</td>\n",
       "      <td>0.165689</td>\n",
       "    </tr>\n",
       "  </tbody>\n",
       "</table>\n",
       "</div>"
      ],
      "text/plain": [
       "          0         1         2         3         4\n",
       "0 -0.224937 -0.762297 -0.140714 -0.370668  0.888951\n",
       "1  2.661268  1.949505  0.937711  2.423897  0.674366\n",
       "2  1.860291  2.001318 -0.789485 -0.961487  0.959714\n",
       "3  0.052483  1.991335 -0.561889 -0.897208 -0.579662\n",
       "4  0.228542 -1.239256 -0.580582  1.660181  0.165689"
      ]
     },
     "execution_count": 16,
     "metadata": {},
     "output_type": "execute_result"
    }
   ],
   "source": [
    "import pandas as pd\n",
    "\n",
    "df = pd.DataFrame(np.random.randn(10,5))\n",
    "df.head()\n"
   ]
  },
  {
   "cell_type": "code",
   "execution_count": 17,
   "metadata": {},
   "outputs": [
    {
     "data": {
      "text/plain": [
       "'\\\\begin{tabular}{lrrrrr}\\n\\\\toprule\\n{} &         0 &         1 &         2 &         3 &         4 \\\\\\\\\\n\\\\midrule\\n0 & -0.224937 & -0.762297 & -0.140714 & -0.370668 &  0.888951 \\\\\\\\\\n1 &  2.661268 &  1.949505 &  0.937711 &  2.423897 &  0.674366 \\\\\\\\\\n2 &  1.860291 &  2.001318 & -0.789485 & -0.961487 &  0.959714 \\\\\\\\\\n3 &  0.052483 &  1.991335 & -0.561889 & -0.897208 & -0.579662 \\\\\\\\\\n4 &  0.228542 & -1.239256 & -0.580582 &  1.660181 &  0.165689 \\\\\\\\\\n5 & -1.078513 &  0.897497 &  2.366831 & -0.526499 &  1.227293 \\\\\\\\\\n6 & -1.044479 & -1.455445 & -0.268013 & -1.455403 & -1.049988 \\\\\\\\\\n7 &  0.522038 &  0.137830 &  0.032407 & -0.442775 &  0.374472 \\\\\\\\\\n8 &  0.485219 & -0.346744 & -0.629975 & -1.564741 & -1.518905 \\\\\\\\\\n9 & -1.579383 & -0.116426 &  0.341010 & -0.775015 & -0.523806 \\\\\\\\\\n\\\\bottomrule\\n\\\\end{tabular}\\n'"
      ]
     },
     "execution_count": 17,
     "metadata": {},
     "output_type": "execute_result"
    }
   ],
   "source": [
    "df_to_latex = df.to_latex()\n",
    "df_to_latex"
   ]
  },
  {
   "cell_type": "code",
   "execution_count": null,
   "metadata": {},
   "outputs": [],
   "source": []
  }
 ],
 "metadata": {
  "kernelspec": {
   "display_name": "Python 2",
   "language": "python",
   "name": "python2"
  },
  "language_info": {
   "codemirror_mode": {
    "name": "ipython",
    "version": 2
   },
   "file_extension": ".py",
   "mimetype": "text/x-python",
   "name": "python",
   "nbconvert_exporter": "python",
   "pygments_lexer": "ipython2",
   "version": "2.7.14"
  }
 },
 "nbformat": 4,
 "nbformat_minor": 2
}
